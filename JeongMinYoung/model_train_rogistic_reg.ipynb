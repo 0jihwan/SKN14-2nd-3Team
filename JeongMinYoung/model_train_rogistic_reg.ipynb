{
 "cells": [
  {
   "cell_type": "code",
   "id": "initial_id",
   "metadata": {
    "collapsed": true,
    "ExecuteTime": {
     "end_time": "2025-06-04T08:20:47.354121Z",
     "start_time": "2025-06-04T08:20:47.351112Z"
    }
   },
   "source": [
    "import pandas as pd\n",
    "import numpy as np"
   ],
   "outputs": [],
   "execution_count": 1
  },
  {
   "metadata": {
    "ExecuteTime": {
     "end_time": "2025-06-04T08:23:57.565618Z",
     "start_time": "2025-06-04T08:23:57.528808Z"
    }
   },
   "cell_type": "code",
   "source": [
    "\n",
    "commerce_df = pd.read_csv('data/CommerceData.csv')"
   ],
   "id": "8fbf32a5f30d6166",
   "outputs": [],
   "execution_count": 2
  },
  {
   "metadata": {
    "ExecuteTime": {
     "end_time": "2025-06-04T08:23:58.219424Z",
     "start_time": "2025-06-04T08:23:58.020055Z"
    }
   },
   "cell_type": "code",
   "source": [
    "import pandas as pd\n",
    "from sklearn.preprocessing import LabelEncoder\n",
    "\n",
    "# 복사본 작업\n",
    "df = commerce_df.copy()\n",
    "\n",
    "# 1. 결축치 처리\n",
    "df['Tenure'] = df['Tenure'].fillna(df['Tenure'].median())\n",
    "df['WarehouseToHome'] = df['WarehouseToHome'].fillna(df['WarehouseToHome'].median())\n",
    "df['HourSpendOnApp'] = df['HourSpendOnApp'].fillna(df['HourSpendOnApp'].median())\n",
    "\n",
    "df['NoLastYearPurchase'] = df['OrderAmountHikeFromlastYear'].isna().astype(int)\n",
    "df['OrderAmountHikeFromlastYear'] = df['OrderAmountHikeFromlastYear'].fillna(0)\n",
    "\n",
    "df['CouponUsed'] = df['CouponUsed'].fillna(0)\n",
    "df['OrderCount'] = df['OrderCount'].fillna(0)\n",
    "\n",
    "# NeverOrdered로는 구분하고,\n",
    "# DaySinceLastOrder는 명확히 큰 값 (ex. 최대값 + 1) 으로 채워서 모델이 구분 가능하게끔 설정\n",
    "# max_day = df['DaySinceLastOrder'].max()\n",
    "# df['DaySinceLastOrder'] = df['DaySinceLastOrder'].fillna(max_day + 1)\n",
    "# df['NeverOrdered'] = (df['DaySinceLastOrder'] > max_day).astype(int)\n",
    "df['DaySinceLastOrder'] = df['DaySinceLastOrder'].fillna(df['DaySinceLastOrder'].median())\n",
    "\n",
    "# 2. 범주형 인코딩\n",
    "cat_cols = ['PreferredLoginDevice', 'PreferredPaymentMode', 'Gender',\n",
    "            'PreferedOrderCat', 'MaritalStatus']\n",
    "\n",
    "df = pd.get_dummies(df, columns=cat_cols, drop_first=True)\n",
    "\n",
    "# 3. ID 제거\n",
    "df.drop(columns=['CustomerID'], inplace=True)\n"
   ],
   "id": "8756de7dbd3453a3",
   "outputs": [],
   "execution_count": 3
  },
  {
   "metadata": {
    "ExecuteTime": {
     "end_time": "2025-06-04T08:24:12.854804Z",
     "start_time": "2025-06-04T08:24:12.752218Z"
    }
   },
   "cell_type": "code",
   "source": [
    "from sklearn.model_selection import train_test_split\n",
    "from sklearn.preprocessing import StandardScaler\n",
    "\n",
    "# 1. train/test 분리 (스케일링 전에 분리)\n",
    "X = df.drop(columns='Churn')\n",
    "y = df['Churn']\n",
    "\n",
    "X_train, X_test, y_train, y_test = train_test_split(\n",
    "    X, y, test_size=0.2, random_state=42, stratify=y\n",
    ")\n",
    "\n",
    "# 2. 연속형 변수만 선택하기 위해서 제외할 컬럼 리스트 정의\n",
    "exclude = ['CityTier', 'PreferredPaymentMode', 'Gender',\n",
    "           'PreferedOrderCat', 'MaritalStatus', 'PreferredLoginDevice']\n",
    "\n",
    "# 정수형, 실수형 컬럼 중에서 exclude 컬럼 제외한 컬럼 뽑기\n",
    "num_cols = X.select_dtypes(include=['float64', 'int64']).columns.difference(exclude)\n",
    "\n",
    "# 3. 스케일러 선언 및 학습\n",
    "scaler = StandardScaler()\n",
    "X_train[num_cols] = scaler.fit_transform(X_train[num_cols])\n",
    "X_test[num_cols] = scaler.transform(X_test[num_cols])"
   ],
   "id": "8c0040ebb3a6f139",
   "outputs": [],
   "execution_count": 4
  },
  {
   "metadata": {
    "ExecuteTime": {
     "end_time": "2025-06-04T08:24:37.029200Z",
     "start_time": "2025-06-04T08:24:14.250355Z"
    }
   },
   "cell_type": "code",
   "source": [
    "from sklearn.model_selection import GridSearchCV\n",
    "from sklearn.svm import SVC\n",
    "\n",
    "param_grid = {\n",
    "    'C': [0.1, 1, 10],\n",
    "    'kernel': ['linear', 'rbf', 'poly'],\n",
    "    'gamma': ['scale', 'auto']\n",
    "}\n",
    "grid = GridSearchCV(SVC(), param_grid, cv=5)\n",
    "grid.fit(X_train, y_train)\n",
    "\n",
    "\n",
    "best_model = grid.best_estimator_\n",
    "print(\"최적 하이퍼파라미터:\", grid.best_params_)\n",
    "\n",
    "\n",
    "y_pred = best_model.predict(X_test)"
   ],
   "id": "28147512e10dba14",
   "outputs": [
    {
     "name": "stdout",
     "output_type": "stream",
     "text": [
      "최적 하이퍼파라미터: {'C': 10, 'gamma': 'scale', 'kernel': 'rbf'}\n"
     ]
    }
   ],
   "execution_count": 5
  },
  {
   "metadata": {
    "ExecuteTime": {
     "end_time": "2025-06-04T08:25:48.257371Z",
     "start_time": "2025-06-04T08:25:48.235670Z"
    }
   },
   "cell_type": "code",
   "source": [
    "from sklearn.metrics import accuracy_score, classification_report, confusion_matrix\n",
    "\n",
    "print(\"정확도:\", accuracy_score(y_test, y_pred))\n",
    "print(\"분류 리포트:\\n\", classification_report(y_test, y_pred))\n",
    "print(\"혼동 행렬:\\n\", confusion_matrix(y_test, y_pred))\n"
   ],
   "id": "3e7c832ee75f6096",
   "outputs": [
    {
     "name": "stdout",
     "output_type": "stream",
     "text": [
      "정확도: 0.9591474245115453\n",
      "분류 리포트:\n",
      "               precision    recall  f1-score   support\n",
      "\n",
      "           0       0.97      0.98      0.98       936\n",
      "           1       0.90      0.85      0.88       190\n",
      "\n",
      "    accuracy                           0.96      1126\n",
      "   macro avg       0.94      0.91      0.93      1126\n",
      "weighted avg       0.96      0.96      0.96      1126\n",
      "\n",
      "혼동 행렬:\n",
      " [[919  17]\n",
      " [ 29 161]]\n"
     ]
    }
   ],
   "execution_count": 6
  }
 ],
 "metadata": {
  "kernelspec": {
   "display_name": "Python 3",
   "language": "python",
   "name": "python3"
  },
  "language_info": {
   "codemirror_mode": {
    "name": "ipython",
    "version": 2
   },
   "file_extension": ".py",
   "mimetype": "text/x-python",
   "name": "python",
   "nbconvert_exporter": "python",
   "pygments_lexer": "ipython2",
   "version": "2.7.6"
  }
 },
 "nbformat": 4,
 "nbformat_minor": 5
}
