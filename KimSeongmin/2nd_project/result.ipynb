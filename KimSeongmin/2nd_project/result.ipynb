{
 "cells": [
  {
   "metadata": {},
   "cell_type": "markdown",
   "source": [
    "# 📄 전처리 결과서\n",
    "\n",
    "## 1. 프로젝트 개요\n",
    "- **프로젝트명**: 고객 이탈 예측 모델 개발\n",
    "- **목표**: 고객 이탈 여부를 예측하기 위한 모델 학습을 위한 데이터 전처리 수행\n",
    "- **데이터 출처**: 내부 CRM 시스템 또는 Kaggle 공개 데이터셋 (예: E Commerce Dataset model)\n",
    "\n",
    "---\n",
    "\n",
    "## 2. 원본 데이터 개요\n",
    "- **총 관측치**: 5630개\n",
    "- **총 변수 수**: 20개\n",
    "- **타겟 변수**: `Churn` (고객 이탈 여부)\n",
    "- **주요 변수**:\n",
    "  - `CustomerID`, `Tenure`, `PreferredLoginDevice`, `Complain`, `SatisfactionScore` 등\n",
    "\n",
    "---\n",
    "\n",
    "## 3. 전처리 단계\n",
    "\n",
    "| 단계                 | 변수/내용                                                       | 처리 내용 및 이유                                                   |\n",
    "|--------------------|-------------------------------------------------------------|--------------------------------------------------------------|\n",
    "| 1. 결측치 처리          | `Tenure`, `CouponUsed`, `OrderCount`, `DaySinceLastOrder` 등 |  평균값으로 대체 |\n",
    "| 2. 이상치 제거          | 없음                                                          | 주요 수치형 변수에 대해 boxplot과 Z-score 분석 결과, 제거할 이상치는 없음            |\n",
    "| 3. 변수 형 변환         | `Churn`                                                     | 정수형(0,1)을 범주형으로 변환 (`astype(int)`)                           |\n",
    "| 4. 범주형 변수 인코딩      | `Churn 등                                                    | `pd.get_dummies()`로 원-핫 인코딩                                  |\n",
    "| 5.컬럼 삭제 | `CustomerID` 컬럼 삭제                                          | `pd.get_dummies()`로 원-핫 인코딩                                  |\n",
    "\n",
    "\n",
    "---\n",
    "\n",
    "## 4. 전처리 후 데이터셋 요약\n",
    "- **총 관측치**: 5630건 (변동 없음)\n",
    "- **총 변수 수**: 19개\n",
    "\n",
    "---\n",
    "\n",
    "## 5. 전처리 코드 예시 (일부 발췌)\n",
    "\n",
    "```python\n",
    "df.info()\n",
    "df.describe(include='all')\n",
    "df.isnull().sum()\n",
    "\n",
    "df['PreferredLoginDevice'] = df['PreferredLoginDevice'].replace({'Mobile Phone': 'Mobile'})\n",
    "\n",
    "# 수치형 - 평균값 대체\n",
    "num_cols = df.select_dtypes(include=['float64', 'int64']).columns.drop('CustomerID')\n",
    "df[num_cols] = df[num_cols].fillna(df[num_cols].mean())\n",
    "\n",
    "#범주형 - 최빈값 대체\n",
    "cat_cols = df.select_dtypes(include='object').columns\n",
    "for col in cat_cols:\n",
    "    df[col] = df[col].fillna(df[col].mode()[0])\n",
    "\n",
    "# CustomerID 컬럼 삭제\n",
    "df = df.drop(columns=['CustomerID'])\n",
    "# Churn - 범주형으로 변경\n",
    "df['Churn'] = df['Churn'].astype('category')\n",
    "\n"
   ],
   "id": "a256fc19ec056f40"
  },
  {
   "cell_type": "code",
   "execution_count": null,
   "id": "initial_id",
   "metadata": {
    "collapsed": true
   },
   "outputs": [],
   "source": [
    ""
   ]
  }
 ],
 "metadata": {
  "kernelspec": {
   "display_name": "Python 3",
   "language": "python",
   "name": "python3"
  },
  "language_info": {
   "codemirror_mode": {
    "name": "ipython",
    "version": 2
   },
   "file_extension": ".py",
   "mimetype": "text/x-python",
   "name": "python",
   "nbconvert_exporter": "python",
   "pygments_lexer": "ipython2",
   "version": "2.7.6"
  }
 },
 "nbformat": 4,
 "nbformat_minor": 5
}
